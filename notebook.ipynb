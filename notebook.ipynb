{
 "cells": [
  {
   "cell_type": "markdown",
   "metadata": {},
   "source": [
    "### Imports & Options"
   ]
  },
  {
   "cell_type": "code",
   "execution_count": 33,
   "metadata": {},
   "outputs": [
    {
     "name": "stdout",
     "output_type": "stream",
     "text": [
      "The autoreload extension is already loaded. To reload it, use:\n",
      "  %reload_ext autoreload\n"
     ]
    }
   ],
   "source": [
    "import torch\n",
    "\n",
    "from models import *\n",
    "from losses import *\n",
    "from utils import *\n",
    "from train_validate import *\n",
    "from continual import split_MNIST\n",
    "\n",
    "\n",
    "EPOCHS = 3\n",
    "TASKS = {0: [0,1], 1: [2,3], 2: [4,5], 3: [6,7], 4: [8,9]}\n",
    "\n",
    "#device = torch.device(\"cuda:0\" if torch.cuda.is_available() else \"cpu\")\n",
    "device = \"CPU\"\n",
    "\n",
    "%load_ext autoreload\n",
    "%autoreload 2"
   ]
  },
  {
   "cell_type": "code",
   "execution_count": 34,
   "metadata": {},
   "outputs": [],
   "source": [
    "opt = Options()\n",
    "opt.print_freq = 100\n",
    "opt.batch_size = 32         \n",
    "opt.num_workers = 2\n",
    "opt.temp = 0.07             \n",
    "opt.learning_rate = 0.01 \n",
    "opt.momentum = 0.9\n",
    "opt.weight_decay = 1e-4\n",
    "opt.epochs = 2"
   ]
  },
  {
   "cell_type": "markdown",
   "metadata": {},
   "source": [
    "### Model & Criteria"
   ]
  },
  {
   "cell_type": "code",
   "execution_count": 35,
   "metadata": {},
   "outputs": [],
   "source": [
    "model = Model()    \n",
    "\n",
    "optimizer = torch.optim.SGD(model.parameters(),\n",
    "                            lr=opt.learning_rate,\n",
    "                            momentum=opt.momentum,\n",
    "                            weight_decay=opt.weight_decay)\n",
    "\n",
    "loss_testing = torch.nn.CrossEntropyLoss()\n",
    "loss_projection = SupConLoss()"
   ]
  },
  {
   "cell_type": "markdown",
   "metadata": {},
   "source": [
    "### Training"
   ]
  },
  {
   "cell_type": "code",
   "execution_count": 21,
   "metadata": {},
   "outputs": [
    {
     "name": "stdout",
     "output_type": "stream",
     "text": [
      "\tTrain: [1][100/396]\tloss (2.230)\tloss (2.768)\tloss t (0.081)\tacc (95.812)\t\n",
      "\tTrain: [1][200/396]\tloss (2.208)\tloss (2.750)\tloss t (0.043)\tacc (97.859)\t\n",
      "\tTrain: [1][300/396]\tloss (2.202)\tloss (2.745)\tloss t (0.030)\tacc (98.542)\t\n",
      "\tTest: [0]\tacc (99.953)\t\n",
      "\tTrain: [2][100/396]\tloss (2.193)\tloss (2.741)\tloss t (0.004)\tacc (99.906)\t\n",
      "\tTrain: [2][200/396]\tloss (2.187)\tloss (2.734)\tloss t (0.003)\tacc (99.922)\t\n",
      "\tTrain: [2][300/396]\tloss (2.186)\tloss (2.731)\tloss t (0.003)\tacc (99.948)\t\n",
      "\tTest: [0]\tacc (99.905)\t\n",
      "\tTest: [0]\tacc (99.905)\t\n",
      "\tTest: [1]\tacc (47.649)\t\n",
      "\tTest: [2]\tacc (54.109)\t\n",
      "\tTest: [3]\tacc (61.027)\t\n",
      "\tTest: [4]\tacc (36.561)\t\n",
      "\tTrain: [1][100/378]\tloss (2.882)\tloss (3.453)\tloss t (0.601)\tacc (74.125)\t\n",
      "\tTrain: [1][200/378]\tloss (2.678)\tloss (3.253)\tloss t (0.376)\tacc (84.250)\t\n",
      "\tTrain: [1][300/378]\tloss (2.552)\tloss (3.121)\tloss t (0.276)\tacc (88.646)\t\n",
      "\tTest: [1]\tacc (98.874)\t\n",
      "\tTrain: [2][100/378]\tloss (2.258)\tloss (2.808)\tloss t (0.057)\tacc (98.656)\t\n",
      "\tTrain: [2][200/378]\tloss (2.257)\tloss (2.808)\tloss t (0.054)\tacc (98.500)\t\n",
      "\tTrain: [2][300/378]\tloss (2.252)\tloss (2.803)\tloss t (0.050)\tacc (98.594)\t\n",
      "\tTest: [1]\tacc (98.139)\t\n",
      "\tTest: [0]\tacc (69.314)\t\n",
      "\tTest: [1]\tacc (98.139)\t\n",
      "\tTest: [2]\tacc (68.997)\t\n",
      "\tTest: [3]\tacc (68.127)\t\n",
      "\tTest: [4]\tacc (48.664)\t\n",
      "\tTrain: [1][100/352]\tloss (2.351)\tloss (2.902)\tloss t (0.147)\tacc (94.531)\t\n",
      "\tTrain: [1][200/352]\tloss (2.282)\tloss (2.830)\tloss t (0.088)\tacc (96.984)\t\n",
      "\tTrain: [1][300/352]\tloss (2.256)\tloss (2.804)\tloss t (0.066)\tacc (97.854)\t\n",
      "\tTest: [2]\tacc (99.626)\t\n",
      "\tTrain: [2][100/352]\tloss (2.193)\tloss (2.738)\tloss t (0.013)\tacc (99.844)\t\n",
      "\tTrain: [2][200/352]\tloss (2.192)\tloss (2.736)\tloss t (0.013)\tacc (99.844)\t\n",
      "\tTrain: [2][300/352]\tloss (2.192)\tloss (2.737)\tloss t (0.013)\tacc (99.823)\t\n",
      "\tTest: [2]\tacc (99.626)\t\n",
      "\tTest: [0]\tacc (14.846)\t\n",
      "\tTest: [1]\tacc (90.695)\t\n",
      "\tTest: [2]\tacc (99.626)\t\n",
      "\tTest: [3]\tacc (35.650)\t\n",
      "\tTest: [4]\tacc (28.694)\t\n",
      "\tTrain: [1][100/381]\tloss (2.391)\tloss (2.839)\tloss t (0.599)\tacc (82.469)\t\n",
      "\tTrain: [1][200/381]\tloss (2.293)\tloss (2.790)\tloss t (0.305)\tacc (91.125)\t\n",
      "\tTrain: [1][300/381]\tloss (2.260)\tloss (2.773)\tloss t (0.207)\tacc (93.990)\t\n",
      "\tTest: [3]\tacc (99.748)\t\n",
      "\tTrain: [2][100/381]\tloss (2.180)\tloss (2.724)\tloss t (0.005)\tacc (100.000)\t\n",
      "\tTrain: [2][200/381]\tloss (2.182)\tloss (2.726)\tloss t (0.005)\tacc (99.984)\t\n",
      "\tTrain: [2][300/381]\tloss (2.183)\tloss (2.727)\tloss t (0.005)\tacc (99.979)\t\n",
      "\tTest: [3]\tacc (99.899)\t\n",
      "\tTest: [0]\tacc (83.877)\t\n",
      "\tTest: [1]\tacc (65.769)\t\n",
      "\tTest: [2]\tacc (27.695)\t\n",
      "\tTest: [3]\tacc (99.899)\t\n",
      "\tTest: [4]\tacc (67.776)\t\n",
      "\tTrain: [1][100/369]\tloss (2.371)\tloss (2.926)\tloss t (0.151)\tacc (94.688)\t\n",
      "\tTrain: [1][200/369]\tloss (2.318)\tloss (2.871)\tloss t (0.102)\tacc (96.453)\t\n",
      "\tTrain: [1][300/369]\tloss (2.300)\tloss (2.853)\tloss t (0.087)\tacc (97.083)\t\n",
      "\tTest: [4]\tacc (98.185)\t\n",
      "\tTrain: [2][100/369]\tloss (2.222)\tloss (2.770)\tloss t (0.031)\tacc (99.000)\t\n",
      "\tTrain: [2][200/369]\tloss (2.223)\tloss (2.771)\tloss t (0.032)\tacc (99.109)\t\n",
      "\tTrain: [2][300/369]\tloss (2.229)\tloss (2.778)\tloss t (0.035)\tacc (99.021)\t\n",
      "\tTest: [4]\tacc (99.193)\t\n",
      "\tTest: [0]\tacc (22.790)\t\n",
      "\tTest: [1]\tacc (55.828)\t\n",
      "\tTest: [2]\tacc (8.591)\t\n",
      "\tTest: [3]\tacc (94.713)\t\n",
      "\tTest: [4]\tacc (99.193)\t\n"
     ]
    }
   ],
   "source": [
    "for task_id, digits in TASKS.items():\n",
    "    train_loader, test_loader = split_MNIST(digits, opt)\n",
    "\n",
    "    for epoch in range(1, opt.epochs+1):    \n",
    "        train(train_loader, model, loss_projection, loss_testing, optimizer, epoch, opt)\n",
    "        validate(test_loader, model, task_id)\n",
    "\n",
    "    for task_id, digits in TASKS.items():\n",
    "        _, test_loader, _ = split_MNIST(digits, opt)\n",
    "        validate(test_loader, model, task_id)"
   ]
  },
  {
   "cell_type": "code",
   "execution_count": null,
   "metadata": {},
   "outputs": [],
   "source": []
  }
 ],
 "metadata": {
  "kernelspec": {
   "display_name": "Python 3.8.8",
   "language": "python",
   "name": "python3"
  },
  "language_info": {
   "codemirror_mode": {
    "name": "ipython",
    "version": 3
   },
   "file_extension": ".py",
   "mimetype": "text/x-python",
   "name": "python",
   "nbconvert_exporter": "python",
   "pygments_lexer": "ipython3",
   "version": "3.8.8"
  },
  "orig_nbformat": 4,
  "vscode": {
   "interpreter": {
    "hash": "66cfd7e06a9b13ca240bb509e71171e942d6bb11ac2eeef92c138abac4238402"
   }
  }
 },
 "nbformat": 4,
 "nbformat_minor": 2
}
